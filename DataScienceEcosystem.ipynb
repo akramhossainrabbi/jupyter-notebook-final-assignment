{
 "cells": [
  {
   "cell_type": "markdown",
   "id": "df9c111e-c23d-47e4-96e3-ca0887ca9a75",
   "metadata": {},
   "source": [
    "# Data Science Tools and Ecosystem"
   ]
  },
  {
   "cell_type": "markdown",
   "id": "152dca77-d94a-46c6-af6e-8ba4d253ce35",
   "metadata": {},
   "source": [
    "In this notebook, Data Science Tools and Ecosystem are summarized."
   ]
  },
  {
   "cell_type": "markdown",
   "id": "51e52715-4357-4370-bccf-508298e73700",
   "metadata": {},
   "source": [
    "**Objectives:**\n",
    "* List of some popular languages that Data Scientists use.\n",
    "* List of some commonly used libraries used by Data Scientists.\n",
    "* List of some popular Data Science Tools.\n",
    "* Few examples of evaluating arithmetic expressions in Python"
   ]
  },
  {
   "cell_type": "markdown",
   "id": "a43d4bf5-ccb5-48c3-9c59-e139afc837b2",
   "metadata": {},
   "source": [
    "Some of the popular languages that Data Scientists use are:\n",
    "\n",
    "1. Python\n",
    "2. R\n",
    "3. Java\n",
    "4. Julia\n",
    "5. Scala"
   ]
  },
  {
   "cell_type": "markdown",
   "id": "145da674-0fa5-488e-94a3-afd90536b303",
   "metadata": {},
   "source": [
    "Some of the commonly used libraries used by Data Scientists include:\n",
    "\n",
    "1. TensorFlow\n",
    "2. NumPy\n",
    "3. SciPy \n",
    "4. Pandas\n",
    "4. Matplotlib \n",
    "6. Keras\n",
    "7. SciKit-Learn\n",
    "8. PyTorch\n",
    "9. Scrapy\n",
    "10. Caffe\n"
   ]
  },
  {
   "cell_type": "markdown",
   "id": "23b7e59a-3da5-4599-933a-210449b4ab2a",
   "metadata": {},
   "source": [
    "| Data Science Tools |\n",
    "| ------------------ |\n",
    "| RStudio |\n",
    "| Jypyter Notebook |\n",
    "| Apache Spark |"
   ]
  },
  {
   "cell_type": "markdown",
   "id": "7deb3774-3b04-46b5-9ce2-9ff5abbc740e",
   "metadata": {},
   "source": [
    "### Below are a few examples of evaluating arithmetic expressions in Python"
   ]
  },
  {
   "cell_type": "code",
   "execution_count": 4,
   "id": "aeb22063-b3a7-4ccc-b218-357d816e9645",
   "metadata": {},
   "outputs": [
    {
     "data": {
      "text/plain": [
       "17"
      ]
     },
     "execution_count": 4,
     "metadata": {},
     "output_type": "execute_result"
    }
   ],
   "source": [
    "# This a simple arithmetic expression to mutiply then add integers\n",
    "(3*4)+5"
   ]
  },
  {
   "cell_type": "code",
   "execution_count": 5,
   "id": "e28a6946-5609-4293-afe7-307dc029aa2a",
   "metadata": {},
   "outputs": [
    {
     "data": {
      "text/plain": [
       "3.3333333333333335"
      ]
     },
     "execution_count": 5,
     "metadata": {},
     "output_type": "execute_result"
    }
   ],
   "source": [
    "# This will convert 200 minutes to hours by diving by 60\n",
    "200/60"
   ]
  },
  {
   "cell_type": "markdown",
   "id": "4e04316b-1085-484a-a817-30b5669c03fe",
   "metadata": {},
   "source": [
    "## Author\n",
    "Akram Hossain"
   ]
  },
  {
   "cell_type": "code",
   "execution_count": null,
   "id": "0e5de1d0-1548-4ad7-8a0c-08f90b7e9dc9",
   "metadata": {},
   "outputs": [],
   "source": []
  }
 ],
 "metadata": {
  "kernelspec": {
   "display_name": "Python 3 (ipykernel)",
   "language": "python",
   "name": "python3"
  },
  "language_info": {
   "codemirror_mode": {
    "name": "ipython",
    "version": 3
   },
   "file_extension": ".py",
   "mimetype": "text/x-python",
   "name": "python",
   "nbconvert_exporter": "python",
   "pygments_lexer": "ipython3",
   "version": "3.10.6"
  }
 },
 "nbformat": 4,
 "nbformat_minor": 5
}
